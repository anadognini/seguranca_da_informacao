{
  "nbformat": 4,
  "nbformat_minor": 0,
  "metadata": {
    "colab": {
      "provenance": []
    },
    "kernelspec": {
      "name": "python3",
      "display_name": "Python 3"
    },
    "language_info": {
      "name": "python"
    }
  },
  "cells": [
    {
      "cell_type": "code",
      "execution_count": 1,
      "metadata": {
        "id": "d_5kdRWlI7Ao"
      },
      "outputs": [],
      "source": [
        "def vigenere_cipher(text, key, decrypt=False):\n",
        "    alphabet = \"ABCDEFGHIJKLMNOPQRSTUVWXYZ\"\n",
        "    key = key.upper()\n",
        "    result = []\n",
        "    key_index = 0\n",
        "\n",
        "    for char in text:\n",
        "        if char == \" \":\n",
        "            result.append(\" \")  # Mantém espaços inalterados\n",
        "        elif char in alphabet:\n",
        "            shift = alphabet.index(key[key_index % len(key)])\n",
        "            if decrypt:\n",
        "                shift = -shift  # Inverte a direção para decifrar\n",
        "            new_index = (alphabet.index(char) + shift) % len(alphabet)\n",
        "            result.append(alphabet[new_index])\n",
        "            key_index += 1  # Apenas avança a chave se for uma letra válida\n",
        "        else:\n",
        "            result.append(char)  # Mantém caracteres não suportados\n",
        "\n",
        "    return \"\".join(result)"
      ]
    },
    {
      "cell_type": "code",
      "source": [
        "def main():\n",
        "    choice = input(\"Digite 'C' para cifrar ou 'D' para decifrar: \").strip().upper()\n",
        "    text = input(\"Digite o texto (apenas letras maiúsculas e espaços): \").strip().upper()\n",
        "    key = input(\"Digite a chave (apenas letras): \").strip().upper()\n",
        "\n",
        "    if choice == 'C':\n",
        "        print(\"Texto Cifrado:\", vigenere_cipher(text, key))\n",
        "    elif choice == 'D':\n",
        "        print(\"Texto Decifrado:\", vigenere_cipher(text, key, decrypt=True))\n",
        "    else:\n",
        "        print(\"Opção inválida.\")"
      ],
      "metadata": {
        "id": "kYlbfcRAI9KX"
      },
      "execution_count": 2,
      "outputs": []
    },
    {
      "cell_type": "code",
      "source": [
        "if __name__ == \"__main__\":\n",
        "    main()"
      ],
      "metadata": {
        "colab": {
          "base_uri": "https://localhost:8080/"
        },
        "id": "H5DIoUzsI_BV",
        "outputId": "cef2a94a-03d9-4373-b108-f969d9a13054"
      },
      "execution_count": 3,
      "outputs": [
        {
          "output_type": "stream",
          "name": "stdout",
          "text": [
            "Digite 'C' para cifrar ou 'D' para decifrar: C\n",
            "Digite o texto (apenas letras maiúsculas e espaços): vamos atacar hoje\n",
            "Digite a chave (apenas letras): dhu\n",
            "Texto Cifrado: YHGRZ UWHWDY BRQY\n"
          ]
        }
      ]
    },
    {
      "cell_type": "code",
      "source": [],
      "metadata": {
        "id": "vIn3ybw3JD_2"
      },
      "execution_count": null,
      "outputs": []
    }
  ]
}