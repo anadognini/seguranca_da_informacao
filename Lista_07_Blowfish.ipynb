{
  "nbformat": 4,
  "nbformat_minor": 0,
  "metadata": {
    "colab": {
      "provenance": []
    },
    "kernelspec": {
      "name": "python3",
      "display_name": "Python 3"
    },
    "language_info": {
      "name": "python"
    }
  },
  "cells": [
    {
      "cell_type": "code",
      "source": [
        "!pip install pycryptodome"
      ],
      "metadata": {
        "colab": {
          "base_uri": "https://localhost:8080/"
        },
        "id": "JdHGbBbZFbni",
        "outputId": "ed4d0a6d-64a8-46de-8a03-e1e6c600cc2f"
      },
      "execution_count": 1,
      "outputs": [
        {
          "output_type": "stream",
          "name": "stdout",
          "text": [
            "Requirement already satisfied: pycryptodome in /usr/local/lib/python3.11/dist-packages (3.22.0)\n"
          ]
        }
      ]
    },
    {
      "cell_type": "code",
      "execution_count": 2,
      "metadata": {
        "id": "PcBeleP1E5t3"
      },
      "outputs": [],
      "source": [
        "from Crypto.Cipher import Blowfish\n",
        "from Crypto.Util.Padding import pad, unpad\n",
        "import binascii\n",
        "import os"
      ]
    },
    {
      "cell_type": "code",
      "source": [
        "# Caso 1\n",
        "\n",
        "key = bytes([65, 66, 67, 68, 69]) # \"ABCDE\"\n",
        "case1_text = b\"FURB\"\n",
        "block_size = Blowfish.block_size\n",
        "padded_text = pad(case1_text, block_size, style='pkcs7') # pycryptodome não reconhece o estilo 'pkcs5', só 'pkcs7'\n",
        "\n",
        "cipher = Blowfish.new(key, Blowfish.MODE_ECB)\n",
        "ciphertext = cipher.encrypt(padded_text)\n",
        "\n",
        "print(\"1.1. Qual o conteúdo do texto cifrado (em hexadecimal)?\", binascii.hexlify(ciphertext).decode())\n",
        "print(\"1.2. Qual a extensão (quantidade de caracteres) do texto cifrado?\", len(ciphertext))"
      ],
      "metadata": {
        "colab": {
          "base_uri": "https://localhost:8080/"
        },
        "id": "U2RZQaPHFBSj",
        "outputId": "cc804858-3e4a-4a17-8b96-af1bdf405b8d"
      },
      "execution_count": 3,
      "outputs": [
        {
          "output_type": "stream",
          "name": "stdout",
          "text": [
            "1.1. Qual o conteúdo do texto cifrado (em hexadecimal)? 7f4700aa6f5fe08b\n",
            "1.2. Qual a extensão (quantidade de caracteres) do texto cifrado? 8\n"
          ]
        }
      ]
    },
    {
      "cell_type": "code",
      "source": [
        "# Caso 2\n",
        "\n",
        "case2_text = b\"COMPUTADOR\"\n",
        "block_size = Blowfish.block_size\n",
        "padded_text = pad(case2_text, block_size, style='pkcs7')\n",
        "\n",
        "cipher = Blowfish.new(key, Blowfish.MODE_ECB)\n",
        "ciphertext = cipher.encrypt(padded_text)\n",
        "\n",
        "print(\"2.1. Qual o conteúdo do texto cifrado (em hexadecimal)?\", binascii.hexlify(ciphertext).decode())\n",
        "print(\"2.2. Qual a extensão do texto cifrado?\", len(ciphertext))\n",
        "print(\"2.3. Por que o texto cifrado tem tal tamanho?\\nResposta: Porque o Blowfish cifra em blocos fixos de 8 bytes, porém a palavra COMPUTADOR possui 10 bytes. Portanto, foi necessário completar até o próximo múltiplo de 8 bytes (16 bytes) usando padding PKCS#5.\")"
      ],
      "metadata": {
        "colab": {
          "base_uri": "https://localhost:8080/"
        },
        "id": "E2L8N0xEF8Fd",
        "outputId": "d9779aa4-ceb6-4be1-839d-0e99a29dceb5"
      },
      "execution_count": 4,
      "outputs": [
        {
          "output_type": "stream",
          "name": "stdout",
          "text": [
            "2.1. Qual o conteúdo do texto cifrado (em hexadecimal)? f34739ab7634c4efe50ff1b554856572\n",
            "2.2. Qual a extensão do texto cifrado? 16\n",
            "2.3. Por que o texto cifrado tem tal tamanho?\n",
            "Resposta: Porque o Blowfish cifra em blocos fixos de 8 bytes, porém a palavra COMPUTADOR possui 10 bytes. Portanto, foi necessário completar até o próximo múltiplo de 8 bytes (16 bytes) usando padding PKCS#5.\n"
          ]
        }
      ]
    },
    {
      "cell_type": "code",
      "source": [
        "# Caso 3\n",
        "\n",
        "case3_text = b\"SABONETE\"\n",
        "block_size = Blowfish.block_size\n",
        "padded_text = pad(case3_text, block_size, style='pkcs7')\n",
        "\n",
        "cipher = Blowfish.new(key, Blowfish.MODE_ECB)\n",
        "ciphertext = cipher.encrypt(padded_text)\n",
        "\n",
        "print(\"3.1. Qual o conteúdo do texto cifrado (em hexadecimal)?\", binascii.hexlify(ciphertext).decode())\n",
        "print(\"3.2. Qual a extensão do texto cifrado?\", len(ciphertext))\n",
        "print(\"3.3. Por que o texto cifrado tem tal tamanho?\\nResposta: Porque, mesmo que o texto SABONETE tenha exatamente 8 bytes (um bloco completo), o esquema de preenchimento PKCS#5 exige que seja adicionado um novo bloco inteiro de padding. Assim, são acrescentados mais 8 bytes, totalizando 16 bytes de dados a serem criptografados.\")"
      ],
      "metadata": {
        "colab": {
          "base_uri": "https://localhost:8080/"
        },
        "id": "esSJ4B1SIsm0",
        "outputId": "2c357fcb-6ea5-4e93-dde0-5b2c57dc877a"
      },
      "execution_count": 5,
      "outputs": [
        {
          "output_type": "stream",
          "name": "stdout",
          "text": [
            "3.1. Qual o conteúdo do texto cifrado (em hexadecimal)? 841091472604b96acdbc3e2fefa73bdd\n",
            "3.2. Qual a extensão do texto cifrado? 16\n",
            "3.3. Por que o texto cifrado tem tal tamanho?\n",
            "Resposta: Porque, mesmo que o texto SABONETE tenha exatamente 8 bytes (um bloco completo), o esquema de preenchimento PKCS#5 exige que seja adicionado um novo bloco inteiro de padding. Assim, são acrescentados mais 8 bytes, totalizando 16 bytes de dados a serem criptografados.\n"
          ]
        }
      ]
    },
    {
      "cell_type": "code",
      "source": [
        "# Caso 4\n",
        "\n",
        "data = bytes([8, 8, 8, 8, 8, 8, 8, 8])\n",
        "\n",
        "cipher = Blowfish.new(key, Blowfish.MODE_ECB)\n",
        "ciphertext = cipher.encrypt(data)\n",
        "\n",
        "print(\"4.1. Qual o conteúdo do texto cifrado?\", binascii.hexlify(ciphertext).decode())\n",
        "print(\"4.2. Compare os primeiros 8 bytes do texto cifrado com o último bloco cifrado da questão anterior. Que conclusão é possível obter?\\nResposta: O último bloco cifrado da questão 3 é idêntico ao bloco cifrado agora na questão 4, pois ambos representam a cifra de 8 bytes de valor 0x08, adicionados pelo padding PKCS#5.\", binascii.hexlify(ciphertext).decode())"
      ],
      "metadata": {
        "colab": {
          "base_uri": "https://localhost:8080/"
        },
        "id": "8K2rwKdZJIC3",
        "outputId": "2d5f686a-0fe7-4c31-91a5-33a99aa80764"
      },
      "execution_count": 6,
      "outputs": [
        {
          "output_type": "stream",
          "name": "stdout",
          "text": [
            "4.1. Qual o conteúdo do texto cifrado? cdbc3e2fefa73bdd\n",
            "4.2. Compare os primeiros 8 bytes do texto cifrado com o último bloco cifrado da questão anterior. Que conclusão é possível obter?\n",
            "Resposta: O último bloco cifrado da questão 3 é idêntico ao bloco cifrado agora na questão 4, pois ambos representam a cifra de 8 bytes de valor 0x08, adicionados pelo padding PKCS#5. cdbc3e2fefa73bdd\n"
          ]
        }
      ]
    },
    {
      "cell_type": "code",
      "source": [
        "# Caso 5\n",
        "\n",
        "case5_text = b\"SABONETESABONETESABONETE\"\n",
        "block_size = Blowfish.block_size\n",
        "padded_text = pad(case5_text, block_size, style='pkcs7')\n",
        "\n",
        "cipher = Blowfish.new(key, Blowfish.MODE_ECB)\n",
        "ciphertext = cipher.encrypt(padded_text)\n",
        "hex_ciphertext = binascii.hexlify(ciphertext).decode()\n",
        "\n",
        "print(\"5.1. Qual o conteúdo do texto cifrado (em hexadecimal)?\", hex_ciphertext)\n",
        "print(\"5.2. Qual a extensão do texto cifrado?\", len(ciphertext), \"bytes\")\n",
        "print(\"5.3. Avalie o conteúdo do texto cifrado. Que conclusão é possível obter a partir do texto cifrado e do texto simples?\\nResposta: As três partes 841091472604b96a são repetidas. Isso acontece porque no modo ECB, o mesmo bloco de texto gera o mesmo bloco cifrado.\")"
      ],
      "metadata": {
        "colab": {
          "base_uri": "https://localhost:8080/"
        },
        "id": "GjbhH4qkJpuL",
        "outputId": "a3c3978f-c708-4fb3-f0ee-451d46c0e793"
      },
      "execution_count": 7,
      "outputs": [
        {
          "output_type": "stream",
          "name": "stdout",
          "text": [
            "5.1. Qual o conteúdo do texto cifrado (em hexadecimal)? 841091472604b96a841091472604b96a841091472604b96acdbc3e2fefa73bdd\n",
            "5.2. Qual a extensão do texto cifrado? 32 bytes\n",
            "5.3. Avalie o conteúdo do texto cifrado. Que conclusão é possível obter a partir do texto cifrado e do texto simples?\n",
            "Resposta: As três partes 841091472604b96a são repetidas. Isso acontece porque no modo ECB, o mesmo bloco de texto gera o mesmo bloco cifrado.\n"
          ]
        }
      ]
    },
    {
      "cell_type": "code",
      "source": [
        "# Caso 6\n",
        "\n",
        "case6_text = b\"FURB\"\n",
        "iv = b'\\x00\\x00\\x00\\x00\\x00\\x00\\x00\\x00'  # IV de 8 bytes\n",
        "block_size = Blowfish.block_size\n",
        "padded_text = pad(case6_text, block_size, style='pkcs7')\n",
        "\n",
        "cipher = Blowfish.new(key, Blowfish.MODE_CBC, iv)\n",
        "ciphertext = cipher.encrypt(padded_text)\n",
        "hex_ciphertext = binascii.hexlify(ciphertext).decode()\n",
        "\n",
        "print(\"6.1. Qual o conteúdo do texto cifrado (em hexadecimal)?\", hex_ciphertext)\n",
        "\n",
        "decipher = Blowfish.new(key, Blowfish.MODE_CBC, iv)\n",
        "decrypted_padded = decipher.decrypt(ciphertext)\n",
        "\n",
        "try:\n",
        "    decrypted_text = unpad(decrypted_padded, block_size, style='pkcs7')\n",
        "    print(\"Texto decifrado:\", {decrypted_text.decode()})\n",
        "    print(\"6.2. Tente decifrar o texto cifrado, para recuperar o texto simples. O que acontece?\\nResposta: recuperamos o texto original perfeitamente.\")\n",
        "except ValueError as e:\n",
        "    print(\"Erro ao remover padding:\", e)"
      ],
      "metadata": {
        "colab": {
          "base_uri": "https://localhost:8080/"
        },
        "id": "rU8s08QXLoeA",
        "outputId": "e5f5fb73-fea3-4471-9869-1465ebf62806"
      },
      "execution_count": 8,
      "outputs": [
        {
          "output_type": "stream",
          "name": "stdout",
          "text": [
            "6.1. Qual o conteúdo do texto cifrado (em hexadecimal)? 7f4700aa6f5fe08b\n",
            "Texto decifrado: {'FURB'}\n",
            "6.2. Tente decifrar o texto cifrado, para recuperar o texto simples. O que acontece?\n",
            "Resposta: recuperamos o texto original perfeitamente.\n"
          ]
        }
      ]
    },
    {
      "cell_type": "code",
      "source": [
        "# Caso 7\n",
        "\n",
        "case7_text = b\"FURB\"\n",
        "iv = bytes([1, 1, 2, 2, 3, 3, 4, 4])  # IV: [1, 1, 2, 2, 3, 3, 4, 4]\n",
        "block_size = Blowfish.block_size\n",
        "padded_text = pad(case7_text, block_size, style='pkcs7')\n",
        "\n",
        "cipher = Blowfish.new(key, Blowfish.MODE_CBC, iv)\n",
        "ciphertext = cipher.encrypt(padded_text)\n",
        "hex_ciphertext = binascii.hexlify(ciphertext).decode()\n",
        "\n",
        "print(\"7.1. Qual o conteúdo do texto cifrado?\", hex_ciphertext)"
      ],
      "metadata": {
        "colab": {
          "base_uri": "https://localhost:8080/"
        },
        "id": "aGCBSIo0MSRl",
        "outputId": "3f1c125b-726d-4548-c921-f167e92ed335"
      },
      "execution_count": 9,
      "outputs": [
        {
          "output_type": "stream",
          "name": "stdout",
          "text": [
            "7.1. Qual o conteúdo do texto cifrado? cf0a75a354fb624c\n"
          ]
        }
      ]
    },
    {
      "cell_type": "code",
      "source": [
        "# Caso 8\n",
        "\n",
        "case8_text = b\"SABONETESABONETESABONETE\"\n",
        "iv = bytes([1, 1, 2, 2, 3, 3, 4, 4])\n",
        "block_size = Blowfish.block_size\n",
        "padded_text = pad(case8_text, block_size, style='pkcs7')\n",
        "\n",
        "cipher = Blowfish.new(key, Blowfish.MODE_CBC, iv)\n",
        "ciphertext = cipher.encrypt(padded_text)\n",
        "hex_ciphertext = binascii.hexlify(ciphertext).decode()\n",
        "\n",
        "print(\"8.1. Qual o conteúdo do texto cifrado (em hexadecimal)?\", hex_ciphertext)\n",
        "print(\"8.2. Compare o texto cifrado com aquele obtido no caso 5 e apresente uma conclusão desta comparação.\\nResposta: No Caso 5 (modo ECB), blocos idênticos de texto produzem blocos idênticos de cifra. Já no modo CBC, cada bloco de texto é combinado com o bloco anterior cifrado o que elimina os padrões. Assim, mesmo blocos iguais no texto simples resultam em blocos cifrados diferentes! O modo CBC aumenta a segurança, pois disfarça padrões existentes no texto simples. Já no modo ECB, padrões ficam visíveis no texto cifrado.\")"
      ],
      "metadata": {
        "colab": {
          "base_uri": "https://localhost:8080/"
        },
        "id": "vpdIALotNGy-",
        "outputId": "59803b26-3b7c-46ad-9968-a262d741d3b4"
      },
      "execution_count": 10,
      "outputs": [
        {
          "output_type": "stream",
          "name": "stdout",
          "text": [
            "8.1. Qual o conteúdo do texto cifrado (em hexadecimal)? 9b1813dacaf2d6509d10c55c33f36b0918d49bf6cd0c1241e1ab6d1d3119eab6\n",
            "8.2. Compare o texto cifrado com aquele obtido no caso 5 e apresente uma conclusão desta comparação.\n",
            "Resposta: No Caso 5 (modo ECB), blocos idênticos de texto produzem blocos idênticos de cifra. Já no modo CBC, cada bloco de texto é combinado com o bloco anterior cifrado o que elimina os padrões. Assim, mesmo blocos iguais no texto simples resultam em blocos cifrados diferentes! O modo CBC aumenta a segurança, pois disfarça padrões existentes no texto simples. Já no modo ECB, padrões ficam visíveis no texto cifrado.\n"
          ]
        }
      ]
    },
    {
      "cell_type": "code",
      "source": [
        "# Caso 9\n",
        "\n",
        "case9_text = b\"SABONETESABONETESABONETE\"\n",
        "iv_novo = bytes([10, 20, 30, 40, 50, 60, 70, 80])\n",
        "block_size = Blowfish.block_size\n",
        "padded_text = pad(case9_text, block_size, style='pkcs7')\n",
        "\n",
        "cipher = Blowfish.new(key, Blowfish.MODE_CBC, iv_novo)\n",
        "ciphertext = cipher.encrypt(padded_text)\n",
        "hex_ciphertext = binascii.hexlify(ciphertext).decode()\n",
        "\n",
        "print(\"9.1. Qual o conteúdo do texto cifrado?\", hex_ciphertext)\n",
        "print(\"9.2. Compare o texto cifrado com o que foi obtido no caso 8 e apresente conclusão sobre a comparação.\\nResposta: Mesmo com o texto e a chave sendo os mesmos, o texto cifrado saiu totalmente diferente. O vetor de inicialização (IV) influencia diretamente o resultado da criptografia no modo CBC.\")\n",
        "\n",
        "iv_errado = bytes([1, 1, 2, 2, 3, 3, 4, 4])\n",
        "\n",
        "cipher_dec = Blowfish.new(key, Blowfish.MODE_CBC, iv_errado)\n",
        "decrypted_padded = cipher_dec.decrypt(ciphertext)\n",
        "\n",
        "try:\n",
        "    decrypted_text = unpad(decrypted_padded, block_size, style='pkcs7')\n",
        "    print(\"\\nTexto decifrado:\", decrypted_text.decode())\n",
        "    print(\"9.3. A partir do resultado de 9.2, descriptografe a mensagem usando o vetor de inicialização constituído dos bytes 1, 1, 2, 2, 3, 3, 4, 4. Qual a conclusão que você atinge?\\nResposta: Se o IV utilizado na descriptografia não for o mesmo usado na criptografia, não é possível recuperar corretamente o texto original.\")\n",
        "except ValueError as e:\n",
        "    print(\"Erro ao decifrar\", e)\n",
        "\n"
      ],
      "metadata": {
        "colab": {
          "base_uri": "https://localhost:8080/"
        },
        "id": "0DMn-6OiNir5",
        "outputId": "a42dd053-36ec-4a3b-a139-e8dffa02d375"
      },
      "execution_count": 11,
      "outputs": [
        {
          "output_type": "stream",
          "name": "stdout",
          "text": [
            "9.1. Qual o conteúdo do texto cifrado? 10981fe3009f1fe0ab7592179c361cc7af8eb390b79ebc8ed6a1f71d43e1c0c4\n",
            "9.2. Compare o texto cifrado com o que foi obtido no caso 8 e apresente conclusão sobre a comparação.\n",
            "Resposta: Mesmo com o texto e a chave sendo os mesmos, o texto cifrado saiu totalmente diferente. O vetor de inicialização (IV) influencia diretamente o resultado da criptografia no modo CBC.\n",
            "\n",
            "Texto decifrado: XT^ez\u0016\u0011SABONETESABONETE\n",
            "9.3. A partir do resultado de 9.2, descriptografe a mensagem usando o vetor de inicialização constituído dos bytes 1, 1, 2, 2, 3, 3, 4, 4. Qual a conclusão que você atinge?\n",
            "Resposta: Se o IV utilizado na descriptografia não for o mesmo usado na criptografia, não é possível recuperar corretamente o texto original.\n"
          ]
        }
      ]
    },
    {
      "cell_type": "code",
      "source": [
        "# Caso 10\n",
        "\n",
        "case10_text = b\"FURB\"\n",
        "block_size = Blowfish.block_size\n",
        "\n",
        "padded_text = pad(case10_text, block_size, style='pkcs7')\n",
        "cipher = Blowfish.new(key, Blowfish.MODE_ECB)\n",
        "ciphertext = cipher.encrypt(padded_text)\n",
        "hex_ciphertext = binascii.hexlify(ciphertext).decode()\n",
        "\n",
        "print(\"Texto cifrado (hexadecimal):\", hex_ciphertext)\n",
        "print(\"\\n\")\n",
        "\n",
        "wrong_key = b\"11111\"\n",
        "\n",
        "cipher_wrong = Blowfish.new(wrong_key, Blowfish.MODE_ECB)\n",
        "decrypted_padded = cipher_wrong.decrypt(ciphertext)\n",
        "\n",
        "try:\n",
        "    decrypted_text = unpad(decrypted_padded, block_size, style='pkcs7')\n",
        "    print(\"Texto decifrado:\", decrypted_text.decode())\n",
        "except ValueError as e:\n",
        "    print(\"Erro ao decifrar.\", e)\n",
        "\n",
        "print(\"10.1. Criptografe o texto “FURB” usando o modo de operação “ECB”. A partir do texto cifrado obtido, tente decifrá-lo utilizando a chave “11111”. Explique o resultado.\\nResposta: O Blowfish é um algoritmo determinístico que depende totalmente da chave correta. Se usar uma chave diferente para tentar decifrar, o resultado será um texto inválido ou erro de padding.\")"
      ],
      "metadata": {
        "colab": {
          "base_uri": "https://localhost:8080/"
        },
        "id": "R85wHWHhOFaK",
        "outputId": "8951bab5-00c4-4015-8b82-98588b69aa9b"
      },
      "execution_count": 12,
      "outputs": [
        {
          "output_type": "stream",
          "name": "stdout",
          "text": [
            "Texto cifrado (hexadecimal): 7f4700aa6f5fe08b\n",
            "\n",
            "\n",
            "Erro ao decifrar. Padding is incorrect.\n",
            "10.1. Criptografe o texto “FURB” usando o modo de operação “ECB”. A partir do texto cifrado obtido, tente decifrá-lo utilizando a chave “11111”. Explique o resultado.\n",
            "Resposta: O Blowfish é um algoritmo determinístico que depende totalmente da chave correta. Se usar uma chave diferente para tentar decifrar, o resultado será um texto inválido ou erro de padding.\n"
          ]
        }
      ]
    },
    {
      "cell_type": "code",
      "source": [
        "# Caso 11\n",
        "\n",
        "with open('/content/saída.bin', 'rb') as f:\n",
        "    pdf_data = f.read()\n",
        "\n",
        "cipher = Blowfish.new(key, Blowfish.MODE_ECB)\n",
        "block_size = Blowfish.block_size\n",
        "padded_pdf_data = pad(pdf_data, block_size, style='pkcs7')\n",
        "\n",
        "ciphertext = cipher.encrypt(padded_pdf_data)\n",
        "\n",
        "with open('saída.bin', 'wb') as f:\n",
        "    f.write(ciphertext)\n",
        "\n",
        "original_size = os.path.getsize('/content/saída.bin')\n",
        "ciphered_size = os.path.getsize('saída.bin')\n",
        "\n",
        "print(\"11.1. Qual o tamanho em bytes dos dois arquivos?\")\n",
        "print(\"Tamanho do arquivo original:\", original_size, \"bytes\")\n",
        "print(\"Tamanho do arquivo cifrado:\", ciphered_size, \"bytes\")"
      ],
      "metadata": {
        "colab": {
          "base_uri": "https://localhost:8080/"
        },
        "id": "WFP2qo2dPFw0",
        "outputId": "b29f1af6-4da7-477b-8c7f-d3fad464d76a"
      },
      "execution_count": 14,
      "outputs": [
        {
          "output_type": "stream",
          "name": "stdout",
          "text": [
            "11.1. Qual o tamanho em bytes dos dois arquivos?\n",
            "Tamanho do arquivo original: 151592 bytes\n",
            "Tamanho do arquivo cifrado: 151592 bytes\n"
          ]
        }
      ]
    },
    {
      "cell_type": "code",
      "source": [
        "# Caso 12\n",
        "\n",
        "with open('saída.bin', 'rb') as f:\n",
        "    encrypted_data = f.read()\n",
        "\n",
        "cipher = Blowfish.new(key, Blowfish.MODE_ECB)\n",
        "decrypted_padded = cipher.decrypt(encrypted_data)\n",
        "block_size = Blowfish.block_size\n",
        "decrypted_data = unpad(decrypted_padded, block_size, style='pkcs7')\n",
        "\n",
        "with open('descriptografado.pdf', 'wb') as f:\n",
        "    f.write(decrypted_data)\n",
        "\n",
        "print(\"Arquivo descriptografado salvo como 'descriptografado.pdf'.\")"
      ],
      "metadata": {
        "colab": {
          "base_uri": "https://localhost:8080/"
        },
        "id": "2DkOi2lSQJqW",
        "outputId": "9032adcc-e8e1-4044-b2df-8a982fe5674c"
      },
      "execution_count": 15,
      "outputs": [
        {
          "output_type": "stream",
          "name": "stdout",
          "text": [
            "Arquivo descriptografado salvo como 'descriptografado.pdf'.\n"
          ]
        }
      ]
    }
  ]
}